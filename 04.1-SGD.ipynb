{
 "cells": [
  {
   "cell_type": "code",
   "execution_count": 1,
   "metadata": {
    "tags": []
   },
   "outputs": [],
   "source": [
    "#hide\n",
    "! [ -e /content ] && pip install -Uqq fastbook\n",
    "import fastbook\n",
    "fastbook.setup_book()"
   ]
  },
  {
   "cell_type": "code",
   "execution_count": 2,
   "metadata": {
    "tags": []
   },
   "outputs": [],
   "source": [
    "#hide\n",
    "from fastai.vision.all import *\n",
    "from fastbook import *\n",
    "\n",
    "matplotlib.rc('image', cmap='Greys')\n"
   ]
  },
  {
   "cell_type": "markdown",
   "metadata": {},
   "source": [
    "# Simple Gradient Descent Demo\n",
    "\n",
    "Given a 2nd order polynomial h(x) = h0*x^2 + h1*x + h2, use a 3-tensor hhat and stochastic gradient descent to estimate h(x).\n"
   ]
  },
  {
   "cell_type": "code",
   "execution_count": 3,
   "metadata": {
    "tags": []
   },
   "outputs": [
    {
     "name": "stdout",
     "output_type": "stream",
     "text": [
      "tensor([-10.,  -9.,  -8.,  -7.,  -6.,  -5.,  -4.,  -3.,  -2.,  -1.,   0.,   1.,   2.,   3.,   4.,   5.,   6.,   7.,   8.,   9.])\n"
     ]
    }
   ],
   "source": [
    "N = 20 # number of input values\n",
    "x = torch.arange(0,N).float() - 20/2\n",
    "#x = torch.ones((N,)).float()\n",
    "print(x)\n"
   ]
  },
  {
   "cell_type": "code",
   "execution_count": 4,
   "metadata": {
    "tags": []
   },
   "outputs": [],
   "source": [
    "def f(x, h):\n",
    "    \"\"\"\n",
    "    given \n",
    "    h : vector\n",
    "    x : vector\n",
    "    \n",
    "    compute vector y\n",
    "    where y0 = (h0 * x0^2) + (h1 * x0) + h2\n",
    "    \"\"\"\n",
    "    #assert x.shape[0]==N\n",
    "    \n",
    "    #\n",
    "    # vander creates a vandermonde matrix\n",
    "    # specify decreasing (increasing=false) powers\n",
    "    #\n",
    "    # e.g.\n",
    "    # [1, 2 -> vander(x, 3) ->\n",
    "    #    [0,   1,    1]\n",
    "    #    [0,   2,    4]\n",
    "    #\n",
    "    x_van = torch.vander(x, len(h), increasing=False)\n",
    "\n",
    "    #y = torch.matmul(x_van, torch.reshape(h, (len(h), 1)))\n",
    "    y = torch.matmul(x_van, h)\n",
    "    return y"
   ]
  },
  {
   "cell_type": "code",
   "execution_count": 5,
   "metadata": {
    "tags": []
   },
   "outputs": [
    {
     "data": {
      "image/png": "[encoded data removed]",
      "text/plain": [
       "<Figure size 432x288 with 1 Axes>"
      ]
     },
     "metadata": {
      "needs_background": "light"
     },
     "output_type": "display_data"
    }
   ],
   "source": [
    "# make noisy observations yn\n",
    "noise = torch.randn(N)*0\n",
    "#h = torch.tensor([0.5, 1, 0])\n",
    "h = torch.tensor([0.5, 1.0, 2.0])\n",
    "#y =  0.5*(x - 9.5)**2 + 1 + noise\n",
    "yn = f(x,h) + noise\n",
    "plt.scatter(x, yn)\n",
    "plt.grid()"
   ]
  },
  {
   "cell_type": "code",
   "execution_count": 6,
   "metadata": {
    "tags": []
   },
   "outputs": [],
   "source": [
    "#\n",
    "# random initial vector\n",
    "torch.manual_seed(0)\n",
    "LEN_HHAT=3\n",
    "hhat0 = torch.randn(LEN_HHAT)\n",
    "#hhat0= torch.tensor([0.1,2.0,3.0])"
   ]
  },
  {
   "cell_type": "code",
   "execution_count": 7,
   "metadata": {
    "tags": []
   },
   "outputs": [],
   "source": [
    "#\n",
    "# test in & out shapes\n",
    "assert x.shape==torch.Size([N])\n",
    "assert hhat0.shape==torch.Size([LEN_HHAT])\n",
    "\n",
    "yhat=f(x, hhat0)\n",
    "\n",
    "assert yhat.shape==torch.Size([N])"
   ]
  },
  {
   "cell_type": "code",
   "execution_count": 8,
   "metadata": {
    "tags": []
   },
   "outputs": [],
   "source": [
    "def show_preds(x,y,yhat, ax=None):\n",
    "    \"\"\"\n",
    "    plot predicted vs actual \n",
    "    \"\"\"\n",
    "    if ax is None: ax=plt.subplots()[1]\n",
    "    ax.scatter(x, y, label='actual')\n",
    "    ax.scatter(x, yhat, color='red',label='yhat')\n",
    "    max_y = 1.25 * torch.max(y) \n",
    "    min_y = 1.25 * torch.min(y)\n",
    "    ax.set_ylim(min_y,max_y)\n",
    "    ax.grid(True)\n",
    "    ax.legend()"
   ]
  },
  {
   "cell_type": "code",
   "execution_count": 9,
   "metadata": {
    "tags": []
   },
   "outputs": [
    {
     "data": {
      "image/png": "[encoded data removed]",
      "text/plain": [
       "<Figure size 432x288 with 1 Axes>"
      ]
     },
     "metadata": {
      "needs_background": "light"
     },
     "output_type": "display_data"
    }
   ],
   "source": [
    "yhat = f(x, hhat0)\n",
    "show_preds(x,yn,yhat)"
   ]
  },
  {
   "cell_type": "code",
   "execution_count": 10,
   "metadata": {
    "tags": []
   },
   "outputs": [],
   "source": [
    "def grad_loss(x, err):\n",
    "    \"\"\"\n",
    "    x (N,)\n",
    "    err = y-yhat (N,)\n",
    "    \n",
    "    grad has shape (3,)\n",
    "    \"\"\"\n",
    "    assert err.shape==x.shape\n",
    "    \n",
    "    \"\"\"\n",
    "    x_van looks like\n",
    "    [ x0^2 x1^2 x2^2 ... ]\n",
    "    [ x0   x1   x2   ... ]\n",
    "    [ 1    1    1    ... ]\n",
    "    \"\"\"\n",
    "    x_van = torch.vander(x, LEN_HHAT, increasing=False)  \n",
    "    x_van = x_van.T\n",
    "    #print(x_van)\n",
    "\n",
    "    #print(err)\n",
    "    G = torch.zeros((LEN_HHAT,))\n",
    "    \n",
    "    #\n",
    "    # G = gradient\n",
    "    #   = (2.0/20) * x_van * err\n",
    "    for n in range(LEN_HHAT):\n",
    "        G[n] = torch.dot(x_van[n,:], err)\n",
    "    #\n",
    "    G = (-2.0/x.numel()) * G\n",
    "    \n",
    "    assert G.shape==torch.Size((LEN_HHAT,))\n",
    "    return G\n",
    "    \n",
    "    \n"
   ]
  },
  {
   "cell_type": "code",
   "execution_count": 11,
   "metadata": {
    "tags": []
   },
   "outputs": [],
   "source": [
    "def loss_f(err):\n",
    "    assert err.shape==torch.Size((N,))\n",
    "    loss = (1.0/N) * torch.dot(err,err)\n",
    "    assert loss.numel()==1  # is scalar\n",
    "    return loss\n",
    "    "
   ]
  },
  {
   "cell_type": "markdown",
   "metadata": {},
   "source": [
    "## Single Update Step"
   ]
  },
  {
   "cell_type": "code",
   "execution_count": 12,
   "metadata": {
    "tags": []
   },
   "outputs": [
    {
     "name": "stdout",
     "output_type": "stream",
     "text": [
      "hhat=tensor([ 1.5410, -0.2934, -2.1788])\n",
      "yhat = tensor([154.8551, 125.2828,  98.7924,  75.3840])\n",
      "err=tensor([-112.8551,  -91.7828,  -72.7924,  -55.8840])\n"
     ]
    }
   ],
   "source": [
    "#\n",
    "# a single update\n",
    "# split cell = ctrl shift -\n",
    "\n",
    "hhat = torch.clone(hhat0)\n",
    "print(f\"hhat={hhat}\")\n",
    "yhat = f(x, hhat)\n",
    "print(f\"yhat = {yhat[0:4]}\")\n",
    "err = yn - yhat\n",
    "print(f\"err={err[0:4]}\")\n"
   ]
  },
  {
   "cell_type": "code",
   "execution_count": 13,
   "metadata": {
    "tags": []
   },
   "outputs": [
    {
     "name": "stdout",
     "output_type": "stream",
     "text": [
      "loss=2114.721923828125\n",
      "grad=tensor([4082.6790, -186.5806,   62.6826])\n"
     ]
    }
   ],
   "source": [
    "loss0 = loss_f(err)\n",
    "print(f\"loss={loss0}\")\n",
    "\n",
    "g = grad_loss(x, err)\n",
    "print(f\"grad={g}\")\n",
    "\n",
    "#norm_g = torch.dot(g,g.T).sqrt()\n",
    "#print(f\"norm_g = {norm_g}, {norm_g.numel()}\")\n",
    "#assert norm_g.numel()==1  # is scalar\n"
   ]
  },
  {
   "cell_type": "code",
   "execution_count": 14,
   "metadata": {
    "tags": []
   },
   "outputs": [
    {
     "name": "stdout",
     "output_type": "stream",
     "text": [
      "update=tensor([ 0.4083, -0.0187,  0.0063])\n",
      "updated hhat=tensor([ 1.1327, -0.2748, -2.1851])\n",
      "initial loss=2114.721923828125\n",
      "updated loss=783.8820190429688\n"
     ]
    }
   ],
   "source": [
    "MU = 1.0e-4\n",
    "update = MU * g\n",
    "print(f\"update={update}\")\n",
    "hhat = hhat0 - update\n",
    "print(f\"updated hhat={hhat}\")\n",
    "yhat = f(x, hhat)\n",
    "err = yn - yhat\n",
    "loss = loss_f(err)\n",
    "\n",
    "\n",
    "print(f\"initial loss={loss0}\")\n",
    "print(f\"updated loss={loss}\")"
   ]
  },
  {
   "cell_type": "markdown",
   "metadata": {},
   "source": [
    "## Multiple SGD Updates"
   ]
  },
  {
   "cell_type": "code",
   "execution_count": 15,
   "metadata": {
    "tags": []
   },
   "outputs": [],
   "source": [
    "#\n",
    "# do multiple updates\n",
    "NUM_ITER=100\n",
    "MU=1.0e-4\n",
    "hhat = torch.clone(hhat0)\n",
    "loss = torch.zeros((NUM_ITER,))\n",
    "for n in range(NUM_ITER):\n",
    "    yhat = f(x, hhat)\n",
    "    err = yn - yhat\n",
    "\n",
    "    loss[n] = loss_f(err)\n",
    "    #print(f\"iter {n}: loss={loss}\")\n",
    "    g = grad_loss(x, err)\n",
    "    update = MU * g\n",
    "    hhat = hhat - update\n",
    "#\n"
   ]
  },
  {
   "cell_type": "code",
   "execution_count": 17,
   "metadata": {
    "tags": []
   },
   "outputs": [
    {
     "data": {
      "image/png": "[encoded data removed]",
      "text/plain": [
       "<Figure size 432x288 with 1 Axes>"
      ]
     },
     "metadata": {
      "needs_background": "light"
     },
     "output_type": "display_data"
    }
   ],
   "source": [
    "#\n",
    "# plot loss for each iteration\n",
    "fig,ax=plt.subplots(1,1)\n",
    "ax.plot(10.0 * np.log10(loss))\n",
    "ax.grid()\n",
    "ax.set_title('loss vs iter')\n",
    "ax.set_ylabel('10 * log loss')\n",
    "plt.tight_layout()\n",
    "plt.show()"
   ]
  },
  {
   "cell_type": "code",
   "execution_count": 18,
   "metadata": {
    "tags": []
   },
   "outputs": [
    {
     "name": "stdout",
     "output_type": "stream",
     "text": [
      "initial hhat: tensor([ 1.5410, -0.2934, -2.1788])\n",
      "final hhat: tensor([ 0.5523,  0.3559, -2.1517])\n"
     ]
    },
    {
     "data": {
      "text/plain": [
       "Text(0.5, 1.0, 'final estimate')"
      ]
     },
     "execution_count": 18,
     "metadata": {},
     "output_type": "execute_result"
    },
    {
     "data": {
      "image/png": "[encoded data removed]",
      "text/plain": [
       "<Figure size 432x288 with 2 Axes>"
      ]
     },
     "metadata": {
      "needs_background": "light"
     },
     "output_type": "display_data"
    }
   ],
   "source": [
    "print(f\"initial hhat: {hhat0}\")\n",
    "print(f\"final hhat: {hhat}\")\n",
    "yhat0 = f(x, hhat0)\n",
    "yhat = f(x, hhat)\n",
    "fig,ax=plt.subplots(2,1)\n",
    "show_preds(x,yn,yhat0, ax[0])\n",
    "ax[0].set_title('initial estimate')\n",
    "show_preds(x,yn,yhat, ax[1])\n",
    "ax[1].set_title('final estimate')\n"
   ]
  },
  {
   "cell_type": "code",
   "execution_count": null,
   "metadata": {},
   "outputs": [],
   "source": []
  }
 ],
 "metadata": {
  "jupytext": {
   "split_at_heading": true
  },
  "kernelspec": {
   "display_name": "Python 3 (ipykernel)",
   "language": "python",
   "name": "python3"
  },
  "language_info": {
   "codemirror_mode": {
    "name": "ipython",
    "version": 3
   },
   "file_extension": ".py",
   "mimetype": "text/x-python",
   "name": "python",
   "nbconvert_exporter": "python",
   "pygments_lexer": "ipython3",
   "version": "3.9.13"
  }
 },
 "nbformat": 4,
 "nbformat_minor": 4
}
