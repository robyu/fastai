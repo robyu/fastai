{
 "cells": [
  {
   "cell_type": "code",
   "execution_count": 1,
   "id": "67f804b8-10e9-440e-a488-5f7430589a77",
   "metadata": {
    "tags": []
   },
   "outputs": [],
   "source": [
    "#hide\n",
    "! [ -e /content ] && pip install -Uqq fastbook\n",
    "import fastbook\n",
    "fastbook.setup_book()"
   ]
  },
  {
   "cell_type": "code",
   "execution_count": 2,
   "id": "03181e2b-4ad3-404f-85d6-15f655ab042a",
   "metadata": {
    "tags": []
   },
   "outputs": [],
   "source": [
    "#hide\n",
    "import fastai.vision.all as vision\n",
    "import fastbook as fastb\n",
    "import matplotlib\n",
    "import torch\n",
    "\n",
    "matplotlib.rc('image', cmap='Greys')"
   ]
  },
  {
   "cell_type": "code",
   "execution_count": 3,
   "id": "cb351811-c5f6-4ffc-ab1b-448593f22d80",
   "metadata": {
    "tags": []
   },
   "outputs": [
    {
     "data": {
      "text/plain": [
       "True"
      ]
     },
     "execution_count": 3,
     "metadata": {},
     "output_type": "execute_result"
    }
   ],
   "source": [
    "torch.cuda.is_available()"
   ]
  },
  {
   "cell_type": "code",
   "execution_count": 4,
   "id": "0396f633-7783-4196-adec-9a8530a5c448",
   "metadata": {
    "tags": []
   },
   "outputs": [
    {
     "name": "stdout",
     "output_type": "stream",
     "text": [
      "https://s3.amazonaws.com/fast-ai-sample/mnist_sample.tgz\n"
     ]
    }
   ],
   "source": [
    "print(fastb.URLs.MNIST_SAMPLE)"
   ]
  },
  {
   "cell_type": "code",
   "execution_count": 5,
   "id": "0d98eb65-543e-4a82-8ebf-c3599eda61f0",
   "metadata": {
    "tags": []
   },
   "outputs": [
    {
     "name": "stdout",
     "output_type": "stream",
     "text": [
      "/root/.fastai/data/mnist_sample\n"
     ]
    }
   ],
   "source": [
    "# /root/.fastai/data/mnist_sample\n",
    "path = vision.untar_data(fastb.URLs.MNIST_SAMPLE)\n",
    "print(path)"
   ]
  },
  {
   "cell_type": "code",
   "execution_count": 6,
   "id": "ca6ab9eb-d075-492b-a0a2-01d904a2accd",
   "metadata": {
    "tags": []
   },
   "outputs": [],
   "source": [
    "train_3_paths = (path/'train'/'3').ls().sorted()\n",
    "train_7_paths = (path/'train'/'7').ls().sorted()"
   ]
  },
  {
   "cell_type": "code",
   "execution_count": 7,
   "id": "0b544091-d099-45e2-a06f-2771aec2eda2",
   "metadata": {
    "tags": []
   },
   "outputs": [],
   "source": [
    "# list of tensors\n",
    "# fastb.Image is the same as PIL.Image\n",
    "# fastb.tensor is like torch.tensor() but also handles vector elements\n",
    "train_3_list = [fastb.tensor(fastb.Image.open(o)) for o in train_3_paths]\n",
    "train_7_list = [fastb.tensor(fastb.Image.open(o)) for o in train_7_paths]"
   ]
  },
  {
   "cell_type": "code",
   "execution_count": 8,
   "id": "b10e005e-e7c9-4b1c-b8cd-8a91fee88fe5",
   "metadata": {
    "tags": []
   },
   "outputs": [],
   "source": [
    "train_3_tns = torch.stack(train_3_list)\n",
    "train_7_tns = torch.stack(train_7_list)"
   ]
  },
  {
   "cell_type": "code",
   "execution_count": 9,
   "id": "4e17f1a6-aca9-4621-88cb-dd5d74944e50",
   "metadata": {
    "tags": []
   },
   "outputs": [],
   "source": [
    "def normalize_pix_values(x_tns):\n",
    "    max_val = torch.max(x_tns.view((-1,)) ).float().item()\n",
    "    min_val = torch.min(x_tns.view((-1,)) ).float().item()\n",
    "    print (f\"(min, max) = ( {min_val},{max_val} )\")\n",
    "    scaled_x = (1.0/(max_val-min_val)) * (x_tns - min_val)\n",
    "    return scaled_x"
   ]
  },
  {
   "cell_type": "code",
   "execution_count": 10,
   "id": "21de6bde-fecc-457f-91ed-0b46dbbfd687",
   "metadata": {
    "tags": []
   },
   "outputs": [
    {
     "name": "stdout",
     "output_type": "stream",
     "text": [
      "(min, max) = ( 0.0,255.0 )\n",
      "(min, max) = ( 0.0,255.0 )\n"
     ]
    }
   ],
   "source": [
    "#\n",
    "# scale image values to [0..1]\n",
    "train_3_tns = normalize_pix_values(train_3_tns)\n",
    "train_7_tns = normalize_pix_values(train_7_tns)\n",
    "\n",
    "max_val = torch.max( train_3_tns.view((-1,)) ).float().item()\n",
    "min_val = torch.min( train_3_tns.view((-1,)) ).float().item()\n",
    "assert max_val==1.0\n",
    "assert min_val==0.0"
   ]
  },
  {
   "cell_type": "code",
   "execution_count": 11,
   "id": "368ceaa1-a0c5-4445-bea5-5de197510fcd",
   "metadata": {
    "tags": []
   },
   "outputs": [
    {
     "data": {
      "text/plain": [
       "<AxesSubplot:>"
      ]
     },
     "execution_count": 11,
     "metadata": {},
     "output_type": "execute_result"
    },
    {
     "data": {
      "image/png": "[encoded data removed]",
      "text/plain": [
       "<Figure size 72x72 with 1 Axes>"
      ]
     },
     "metadata": {
      "needs_background": "light"
     },
     "output_type": "display_data"
    }
   ],
   "source": [
    "fastb.show_image(train_3_tns[0,:,:])"
   ]
  },
  {
   "cell_type": "code",
   "execution_count": 12,
   "id": "916c0349-35a1-40cc-9607-8345f140aa43",
   "metadata": {
    "tags": []
   },
   "outputs": [
    {
     "name": "stdout",
     "output_type": "stream",
     "text": [
      "torch.Size([12396, 784])\n"
     ]
    },
    {
     "data": {
      "text/plain": [
       "<AxesSubplot:>"
      ]
     },
     "execution_count": 12,
     "metadata": {},
     "output_type": "execute_result"
    },
    {
     "data": {
      "image/png": "[encoded data removed]",
      "text/plain": [
       "<Figure size 72x72 with 1 Axes>"
      ]
     },
     "metadata": {
      "needs_background": "light"
     },
     "output_type": "display_data"
    }
   ],
   "source": [
    "#\n",
    "# training set\n",
    "# reshape each 28*28 image into a vector of 28*28 values\n",
    "train_x = torch.cat( [train_3_tns, train_7_tns] ).view(-1, 28*28)\n",
    "\n",
    "print(train_x.shape)\n",
    "fastb.show_image( train_x[0,:].view(28,28) )   # one image per row"
   ]
  },
  {
   "cell_type": "code",
   "execution_count": 13,
   "id": "2b3fe64d-60a1-49db-bb93-ce2362408d39",
   "metadata": {
    "tags": []
   },
   "outputs": [
    {
     "name": "stdout",
     "output_type": "stream",
     "text": [
      "torch.Size([12396])\n"
     ]
    }
   ],
   "source": [
    "# make label tensor\n",
    "# 1 : 3 image\n",
    "# 0 : 7 image\n",
    "train_y = torch.cat( ( torch.ones( (len(train_3_list),)), torch.zeros((len(train_7_list),) ) ) )\n",
    "print(train_y.shape)\n",
    "assert train_y.shape[0]==train_x.shape[0]\n",
    "\n"
   ]
  },
  {
   "cell_type": "code",
   "execution_count": 14,
   "id": "89e6451e-4a01-4792-88bd-d42b296d20ee",
   "metadata": {
    "tags": []
   },
   "outputs": [
    {
     "data": {
      "text/plain": [
       "[(1, 4), (2, 5), (3, 6)]"
      ]
     },
     "execution_count": 14,
     "metadata": {},
     "output_type": "execute_result"
    }
   ],
   "source": [
    "#\n",
    "# use list( zip( (x, y) )) to make a list of interleaved [ (x0,y1), (x1, y1), ...]\n",
    "# because zip() is an iterator, you must use list( zip() ) -- cannot use [ zip() ]\n",
    "list( zip([1,2,3],[4,5,6]) )"
   ]
  },
  {
   "cell_type": "code",
   "execution_count": 15,
   "id": "3b0f0eda-b464-4bcf-adcd-2c197d8fac14",
   "metadata": {
    "tags": []
   },
   "outputs": [],
   "source": [
    "#\n",
    "# make a training dataset = [ (x0,y0), (x1, y1), ...]\n",
    "train_dset = list(zip(train_x, train_y))\n"
   ]
  },
  {
   "cell_type": "code",
   "execution_count": 16,
   "id": "2cbf77ae-ec94-48ec-bb3d-200079db22ef",
   "metadata": {
    "jupyter": {
     "source_hidden": true
    },
    "tags": []
   },
   "outputs": [
    {
     "name": "stdout",
     "output_type": "stream",
     "text": [
      "(min, max) = ( 0.0,255.0 )\n",
      "(min, max) = ( 0.0,255.0 )\n",
      "2038\n"
     ]
    }
   ],
   "source": [
    "# repeat the above steps to\n",
    "# make the validation training dataset\n",
    "valid_3_paths = (path/'valid'/'3').ls().sorted()\n",
    "valid_7_paths = (path/'valid'/'7').ls().sorted()\n",
    "\n",
    "valid_3_list = [fastb.tensor(fastb.Image.open(o)) for o in valid_3_paths]\n",
    "valid_7_list = [fastb.tensor(fastb.Image.open(o)) for o in valid_7_paths]\n",
    "\n",
    "valid_3_tns = torch.stack(valid_3_list)\n",
    "valid_7_tns = torch.stack(valid_7_list)\n",
    "\n",
    "valid_3_tns = normalize_pix_values(valid_3_tns)\n",
    "valid_7_tns = normalize_pix_values(valid_7_tns)\n",
    "\n",
    "valid_x = torch.cat([valid_3_tns, valid_7_tns]).view(-1,28*28)\n",
    "valid_y = torch.tensor([1]*len(valid_3_list) + [0]*len(valid_7_list)).unsqueeze(1)\n",
    "\n",
    "valid_dset = list(zip(valid_x, valid_y))\n",
    "print(len(valid_dset))"
   ]
  },
  {
   "cell_type": "code",
   "execution_count": 17,
   "id": "55e3d10e-085f-40d2-b47d-f993e8ed84d5",
   "metadata": {
    "jupyter": {
     "source_hidden": true
    },
    "tags": []
   },
   "outputs": [
    {
     "name": "stdout",
     "output_type": "stream",
     "text": [
      "torch.Size([1, 784])\n",
      "torch.Size([1])\n",
      "tensor(-9.7257e-05, grad_fn=<MeanBackward0>)\n"
     ]
    }
   ],
   "source": [
    "#\n",
    "# linear_model encapsulates weights and prediction via matmul\n",
    "# (also initializes the weights randomly?)\n",
    "#\n",
    "# prediction is computed like this:\n",
    "# y = mymodel(x)\n",
    "torch.manual_seed(0)  # make results reproducible\n",
    "mymodel=torch.nn.Linear(28*28,1)\n",
    "\n",
    "w, b = mymodel.parameters()\n",
    "print(w.shape)\n",
    "print(b.shape)\n",
    "print(w.mean())\n"
   ]
  },
  {
   "cell_type": "code",
   "execution_count": 18,
   "id": "5046ce2f-8042-47d8-b414-00c7e7c14aa5",
   "metadata": {
    "jupyter": {
     "source_hidden": true
    },
    "tags": []
   },
   "outputs": [
    {
     "name": "stdout",
     "output_type": "stream",
     "text": [
      "[torch.Size([256, 784]), torch.Size([256])]\n"
     ]
    }
   ],
   "source": [
    "#\n",
    "# DataLoader is an iterator which returns batches of x,y\n",
    "train_dl = fastb.DataLoader(train_dset, batch_size=256, shuffle=False)\n",
    "xb,yb=fastb.first(train_dl) # first() is a silly fcn to look at first entry of iterator; part of fastcore\n",
    "print([xb.shape, yb.shape])\n",
    "\n",
    "valid_dl = fastb.DataLoader(valid_dset, batch_size=256)"
   ]
  },
  {
   "cell_type": "code",
   "execution_count": 19,
   "id": "9e8ad572-f14f-4aeb-944e-0c842a83c442",
   "metadata": {
    "tags": []
   },
   "outputs": [],
   "source": [
    "import hashlib\n",
    "def tensor_to_hash(t):\n",
    "    b0 = xb.numpy().tobytes()\n",
    "    h0 = hashlib.md5(b0).hexdigest()\n",
    "    return h0"
   ]
  },
  {
   "cell_type": "code",
   "execution_count": 20,
   "id": "b0f5e886-67df-4876-8618-4384703087d8",
   "metadata": {
    "tags": []
   },
   "outputs": [
    {
     "name": "stdout",
     "output_type": "stream",
     "text": [
      "0 : 8c22067c43f16e652fe4dcd196b689c6\n",
      "1 : c0169deecd8909989c175f3383632658\n",
      "2 : 79d2e6ae8a71ca782c02c18272e2e5dd\n",
      "3 : 68ec55c6eda682253503865f6364bfa3\n",
      "4 : 3b583075582c6aa10b394bc2d9772857\n",
      "5 : f1398bf9e288b70eaf110833d2c948aa\n",
      "6 : 3b7b047fe6335426977c19a319298631\n",
      "7 : cd72082f3ee1865ce469bab725c626cc\n",
      "8 : 1cf51e71ca138fbb2c9c0880ec90116a\n",
      "9 : 866cc66b24d6f053444caed8fedf4f7d\n",
      "10 : 22858f3945b729463d9a853299207b9a\n",
      "11 : 516de0a216f526f174159633c694e4fa\n",
      "12 : 26f8616c7cc1a17052466427eb710cc4\n",
      "13 : 73c2faa1fb2e991f1834d0beb3303e2b\n",
      "14 : 962088ffccb5ef03a1d1b1ff8a15ccbf\n",
      "15 : 9fe6653891fcac5868f4d2f7d851e394\n",
      "16 : 9b421d9cc6d9a57f197fa92fb65b545c\n",
      "17 : 400c1af77c89487deb8fc940dbf2ed19\n",
      "18 : 084777ba659ca7518fe7b96efe49e364\n",
      "19 : ff255f8d3130382829351915efb23ba0\n",
      "20 : edb334324d4e0ce696b8a2bc4159df75\n",
      "21 : 51c1a59126f7c45d6c6dfca115e34842\n",
      "22 : cfa5b3982e42244b7b64ff33e7ee366b\n",
      "23 : f6dfa5d7ecaa7253ad647fb4a68c8f72\n",
      "24 : 98d69c8ace7d5dfadfa4e3fe721fb45d\n",
      "25 : 87c02933b60da500b9769bf2a69b08ba\n",
      "26 : 8b1f5c420588b03f6e87468bb1995645\n",
      "27 : f57a90b4c8ed78d3fc57c334f23fd92c\n",
      "28 : 89d2e32a57894320af82986202f3237d\n",
      "29 : 3b407c9c8ea3436c6da5cc0a01001ae4\n",
      "30 : 8db3b9d8f5608e8532e80235005c4085\n",
      "31 : f3605b3cf4b22deabb9d5b6de8c1784f\n",
      "32 : f8e9f82e5011594bcea6c8ee56ea9667\n",
      "33 : 807256b080777868c711cf91733fdd29\n",
      "34 : 4abf5b032eff7dc2929169a909925e75\n",
      "35 : ed353f46b44ea7ce6baea263ca7f827a\n",
      "36 : 1e324efd2d22b28d7c43864db54b74f3\n",
      "37 : 0b7aded382b005191ccd4f2d0230e2ea\n",
      "38 : 5795261b83fe78b079d2044e909f0a27\n",
      "39 : a98442dce821d9c46b3035909b56044e\n",
      "40 : 77349a980e13ed4094db84cc51c39c37\n",
      "41 : 69fe5ce17447123b6ae86d3021103347\n",
      "42 : eb8fe14550056bd5aa8b5c29c9c3426a\n",
      "43 : 1099320c91762cd981a4bca0d774649a\n",
      "44 : 919b452ad877579c8aec561a78d3f7ee\n",
      "45 : f2fbe41721c4e32a734a4419267ad0ff\n",
      "46 : e80deb3729ca3e8119785cb7b7e3042b\n",
      "47 : eb10543c6a7f049876e3e1288ea853ed\n",
      "48 : 2bb8ad395ea2cc7757760482b703c89c\n"
     ]
    }
   ],
   "source": [
    "for n, d in enumerate(train_dl):\n",
    "    xb,yb = d\n",
    "    print(f\"{n} : {tensor_to_hash(xb)}\")"
   ]
  },
  {
   "cell_type": "code",
   "execution_count": 21,
   "id": "d0ab4adb-a72a-4523-a166-1d563b4f03a8",
   "metadata": {
    "tags": []
   },
   "outputs": [
    {
     "name": "stdout",
     "output_type": "stream",
     "text": [
      "torch.Size([784])\n"
     ]
    }
   ],
   "source": [
    "#\n",
    "# train_dset is a list of tuples [(x,y),...]\n",
    "#\n",
    "print(train_dset[0][0].shape)\n",
    "y = mymodel(train_dset[3][0])\n",
    "#y.requires_grad==True\n"
   ]
  },
  {
   "cell_type": "code",
   "execution_count": 22,
   "id": "d20f373a-8dec-4083-94b0-9e91e7743893",
   "metadata": {
    "tags": []
   },
   "outputs": [],
   "source": [
    "class BasicOptim:\n",
    "    def __init__(self, params, learnrate):\n",
    "        self.param_list = list(params)  # NOTE: convert iterator into list!\n",
    "        self.learnrate = learnrate\n",
    "        \n",
    "    def step(self, *args, **kwargs):\n",
    "        assert len(self.param_list)==2\n",
    "        for n, param in enumerate(self.param_list):\n",
    "            #print(f\"step {n}: grad = {torch.sum(param.grad)}\")\n",
    "            param.data -= param.grad.data * self.learnrate\n",
    "        #\n",
    "    \n",
    "    def zero_grad(self, *args, **kwargs):\n",
    "        for param in self.param_list:\n",
    "            param.grad = None\n",
    "        "
   ]
  },
  {
   "cell_type": "code",
   "execution_count": 23,
   "id": "17ebac66-3628-4568-b6a2-cddbe3eafd3f",
   "metadata": {
    "tags": []
   },
   "outputs": [],
   "source": [
    "def mnist_loss(predictions, targets):\n",
    "    #\n",
    "    # compare predictions to known results (\"targets\")\n",
    "    # return mean score\n",
    "    predictions = predictions.sigmoid()  # confines result to [0..1]\n",
    "    return torch.where(targets==1, 1-predictions, predictions).mean()"
   ]
  },
  {
   "cell_type": "code",
   "execution_count": 24,
   "id": "e0c622ac-6b4f-46de-89a9-1b23d03d8cad",
   "metadata": {
    "tags": []
   },
   "outputs": [],
   "source": [
    "def batch_accuracy(xb, yb):\n",
    "    preds = xb.sigmoid()\n",
    "    correct = (preds>0.5) == yb\n",
    "    return correct.float().mean()\n",
    "\n",
    "def validate_epoch(model, valid_dl):\n",
    "    #\n",
    "    # return batch accuracy metric\n",
    "    accuracy_l = [batch_accuracy(model(xb), yb) for xb,yb in valid_dl]\n",
    "    #print(f\"accuracy list: {accuracy_l}\")\n",
    "    return round(torch.stack(accuracy_l).mean().item(), 4)"
   ]
  },
  {
   "cell_type": "code",
   "execution_count": 25,
   "id": "c180421b-681a-410c-9cd7-56f2e79d84e7",
   "metadata": {
    "tags": []
   },
   "outputs": [
    {
     "name": "stdout",
     "output_type": "stream",
     "text": [
      "validate_epoch() = 0.419\n"
     ]
    }
   ],
   "source": [
    "# do a single prediction\n",
    "# expected weight sums:\n",
    "#   tensor(-0.0762, grad_fn=<SumBackward0>)   # weights\n",
    "#   tensor([-0.0198], requires_grad=True)   # bias\n",
    "# expected torch.sum(batch[0,:]))\n",
    "#   tensor(111.9529)\n",
    "# expected predictions:\n",
    "#   tensor([[ 0.2755],\n",
    "#            [ 0.0127],\n",
    "#            [ 0.2574],\n",
    "#            [-0.0040]], grad_fn=<AddmmBackward0>)\n",
    "\n",
    "torch.manual_seed(0)  # make results reproducible\n",
    "mymodel=torch.nn.Linear(28*28,1)\n",
    "batch = train_x[:4]\n",
    "\n",
    "#print(torch.sum(batch[0,:]))\n",
    "#for p in mymodel.parameters():\n",
    "#    print(torch.sum(p))\n",
    "preds = mymodel(batch)\n",
    "#print(preds)\n",
    "metric = validate_epoch(mymodel, valid_dl)\n",
    "print(f\"validate_epoch() = {metric}\")\n",
    "assert metric==0.419   # from 04_mnist_basics.ipynb notebook"
   ]
  },
  {
   "cell_type": "code",
   "execution_count": 32,
   "id": "249cec23-f530-4724-97b6-42b5396ad8b0",
   "metadata": {
    "tags": []
   },
   "outputs": [
    {
     "name": "stdout",
     "output_type": "stream",
     "text": [
      "initial weight sum = -0.07624934613704681\n",
      "\n",
      "validate_epoch() = 0.4932\n"
     ]
    }
   ],
   "source": [
    "#\n",
    "# perform 1 epoch of training on batch data\n",
    "#\n",
    "torch.manual_seed(0)  # make results reproducible\n",
    "mymodel=torch.nn.Linear(28*28,1)\n",
    "\n",
    "w, b = mymodel.parameters()\n",
    "print(f\"initial weight sum = {torch.sum(w)}\")\n",
    "\n",
    "myopt = BasicOptim(mymodel.parameters(), 1.0)\n",
    "for n, d in enumerate(train_dl):\n",
    "    #print(f\"batch {n} \")\n",
    "    xb, yb = d\n",
    "    #\n",
    "    # compute predictions and gradient\n",
    "    preds = mymodel(xb)\n",
    "    loss = mnist_loss(preds, yb)\n",
    "    #print(f\"pre  loss = {loss}\")\n",
    "    loss.backward()   # gradient results appears in model.parameters\n",
    "    #print(\">>> step\")\n",
    "    myopt.step()\n",
    "    #print(\"<<< step\")\n",
    "    \n",
    "    # rerun prediction and print updated loss\n",
    "    #preds = mymodel(xb)\n",
    "    #loss = mnist_loss(preds, yb)\n",
    "    #print(f\"post loss = {loss}\")\n",
    "    \n",
    "    myopt.zero_grad()\n",
    "#\n",
    "print(\"\")\n",
    "metric = validate_epoch(mymodel, valid_dl)\n",
    "print(f\"validate_epoch() = {metric}\")\n"
   ]
  },
  {
   "cell_type": "code",
   "execution_count": 35,
   "id": "1bc821b9-6802-4f28-9254-330d4d084926",
   "metadata": {
    "tags": []
   },
   "outputs": [],
   "source": [
    "def train_epoch(model, optimizer, dloader):\n",
    "    #\n",
    "    # train over all minibatches in the dataloader\n",
    "    #\n",
    "    for n, d in enumerate(dloader):\n",
    "        xb,yb = d\n",
    "        #print(f\"{n} \",end='')\n",
    "        #\n",
    "        # compute predictions and gradient\n",
    "        print(\".\",end='')\n",
    "        preds = model(xb)\n",
    "        loss = mnist_loss(preds, yb)\n",
    "        #print(f\"pre loss = {loss}\")\n",
    "        loss.backward()   # gradient results appears in model.parameters\n",
    "        \n",
    "        optimizer.step()\n",
    "        optimizer.zero_grad()\n",
    "    #\n",
    "    print()\n",
    "    \n"
   ]
  },
  {
   "cell_type": "code",
   "execution_count": 36,
   "id": "5ef4e450-4fab-492b-a9c0-c33bb0c82161",
   "metadata": {
    "tags": []
   },
   "outputs": [
    {
     "name": "stdout",
     "output_type": "stream",
     "text": [
      ".................................................\n",
      "validate_epoch() = 0.4932\n"
     ]
    }
   ],
   "source": [
    "#\n",
    "# train for 1 epoch\n",
    "torch.manual_seed(0)  # make results reproducible\n",
    "mymodel=torch.nn.Linear(28*28,1)\n",
    "myopt = BasicOptim(mymodel.parameters(), 1.0)\n",
    "\n",
    "train_epoch(mymodel, myopt, train_dl)\n",
    "\n",
    "metric = validate_epoch(mymodel, valid_dl)\n",
    "print(f\"validate_epoch() = {metric}\")\n",
    "#assert metric==0.4932"
   ]
  },
  {
   "cell_type": "code",
   "execution_count": 50,
   "id": "d9beb647-d4ef-45ac-ac14-d306fc42f16f",
   "metadata": {
    "tags": []
   },
   "outputs": [
    {
     "name": "stdout",
     "output_type": "stream",
     "text": [
      "0 ====\n",
      "train_epoch\n",
      ".................................................\n",
      "validate_epoch() = 0.4932\n",
      "1 ====\n",
      "train_epoch\n",
      ".................................................\n",
      "validate_epoch() = 0.8389\n",
      "2 ====\n",
      "train_epoch\n",
      ".................................................\n",
      "validate_epoch() = 0.8306\n",
      "3 ====\n",
      "train_epoch\n",
      ".................................................\n",
      "validate_epoch() = 0.9102\n",
      "4 ====\n",
      "train_epoch\n",
      ".................................................\n",
      "validate_epoch() = 0.9346\n",
      "5 ====\n",
      "train_epoch\n",
      ".................................................\n",
      "validate_epoch() = 0.9463\n",
      "6 ====\n",
      "train_epoch\n",
      ".................................................\n",
      "validate_epoch() = 0.9555\n",
      "7 ====\n",
      "train_epoch\n",
      ".................................................\n",
      "validate_epoch() = 0.9614\n",
      "8 ====\n",
      "train_epoch\n",
      ".................................................\n",
      "validate_epoch() = 0.9663\n",
      "9 ====\n",
      "train_epoch\n",
      ".................................................\n",
      "validate_epoch() = 0.9678\n"
     ]
    }
   ],
   "source": [
    "#\n",
    "# train for N epochs\n",
    "#\n",
    "torch.manual_seed(0)  # make results reproducible\n",
    "mymodel=torch.nn.Linear(28*28,1)\n",
    "myopt = BasicOptim(mymodel.parameters(), 1.0)\n",
    "\n",
    "N=10\n",
    "for n in range(N):\n",
    "    print(f\"{n} ====\")\n",
    "    print(\"train_epoch\")\n",
    "    train_epoch(mymodel, myopt, train_dl)\n",
    "    \n",
    "    metric = validate_epoch(mymodel, valid_dl)\n",
    "    print(f\"validate_epoch() = {metric}\")\n"
   ]
  },
  {
   "cell_type": "code",
   "execution_count": 53,
   "id": "3b57b947-98d0-43aa-b71c-b9c1a775bc9c",
   "metadata": {},
   "outputs": [
    {
     "data": {
      "text/html": [
       "\n",
       "<style>\n",
       "    /* Turns off some styling */\n",
       "    progress {\n",
       "        /* gets rid of default border in Firefox and Opera. */\n",
       "        border: none;\n",
       "        /* Needs to be in here for Safari polyfill so background images work as expected. */\n",
       "        background-size: auto;\n",
       "    }\n",
       "    progress:not([value]), progress:not([value])::-webkit-progress-bar {\n",
       "        background: repeating-linear-gradient(45deg, #7e7e7e, #7e7e7e 10px, #5c5c5c 10px, #5c5c5c 20px);\n",
       "    }\n",
       "    .progress-bar-interrupted, .progress-bar-interrupted::-webkit-progress-bar {\n",
       "        background: #F44336;\n",
       "    }\n",
       "</style>\n"
      ],
      "text/plain": [
       "<IPython.core.display.HTML object>"
      ]
     },
     "metadata": {},
     "output_type": "display_data"
    },
    {
     "data": {
      "text/html": [
       "<table border=\"1\" class=\"dataframe\">\n",
       "  <thead>\n",
       "    <tr style=\"text-align: left;\">\n",
       "      <th>epoch</th>\n",
       "      <th>train_loss</th>\n",
       "      <th>valid_loss</th>\n",
       "      <th>batch_accuracy</th>\n",
       "      <th>time</th>\n",
       "    </tr>\n",
       "  </thead>\n",
       "  <tbody>\n",
       "    <tr>\n",
       "      <td>0</td>\n",
       "      <td>0.636849</td>\n",
       "      <td>0.503612</td>\n",
       "      <td>0.495584</td>\n",
       "      <td>00:00</td>\n",
       "    </tr>\n",
       "    <tr>\n",
       "      <td>1</td>\n",
       "      <td>0.567227</td>\n",
       "      <td>0.190596</td>\n",
       "      <td>0.838077</td>\n",
       "      <td>00:00</td>\n",
       "    </tr>\n",
       "    <tr>\n",
       "      <td>2</td>\n",
       "      <td>0.208741</td>\n",
       "      <td>0.184873</td>\n",
       "      <td>0.829735</td>\n",
       "      <td>00:00</td>\n",
       "    </tr>\n",
       "    <tr>\n",
       "      <td>3</td>\n",
       "      <td>0.091478</td>\n",
       "      <td>0.108047</td>\n",
       "      <td>0.909715</td>\n",
       "      <td>00:00</td>\n",
       "    </tr>\n",
       "    <tr>\n",
       "      <td>4</td>\n",
       "      <td>0.048400</td>\n",
       "      <td>0.078212</td>\n",
       "      <td>0.934249</td>\n",
       "      <td>00:00</td>\n",
       "    </tr>\n",
       "    <tr>\n",
       "      <td>5</td>\n",
       "      <td>0.031685</td>\n",
       "      <td>0.062351</td>\n",
       "      <td>0.946025</td>\n",
       "      <td>00:00</td>\n",
       "    </tr>\n",
       "    <tr>\n",
       "      <td>6</td>\n",
       "      <td>0.024854</td>\n",
       "      <td>0.052594</td>\n",
       "      <td>0.955348</td>\n",
       "      <td>00:00</td>\n",
       "    </tr>\n",
       "    <tr>\n",
       "      <td>7</td>\n",
       "      <td>0.021827</td>\n",
       "      <td>0.046159</td>\n",
       "      <td>0.961236</td>\n",
       "      <td>00:00</td>\n",
       "    </tr>\n",
       "    <tr>\n",
       "      <td>8</td>\n",
       "      <td>0.020296</td>\n",
       "      <td>0.041660</td>\n",
       "      <td>0.966143</td>\n",
       "      <td>00:00</td>\n",
       "    </tr>\n",
       "    <tr>\n",
       "      <td>9</td>\n",
       "      <td>0.019379</td>\n",
       "      <td>0.038354</td>\n",
       "      <td>0.967615</td>\n",
       "      <td>00:01</td>\n",
       "    </tr>\n",
       "  </tbody>\n",
       "</table>"
      ],
      "text/plain": [
       "<IPython.core.display.HTML object>"
      ]
     },
     "metadata": {},
     "output_type": "display_data"
    }
   ],
   "source": [
    "dls = fastb.DataLoaders(train_dl, valid_dl)\n",
    "torch.manual_seed(0)  # make results reproducible\n",
    "\n",
    "learn = fastb.Learner(dls, \n",
    "                      torch.nn.Linear(28*28,1),  # same as mymodel\n",
    "                      opt_func=fastb.SGD, # same as BasicOptimizer\n",
    "                      loss_func=mnist_loss,\n",
    "                      metrics=batch_accuracy)\n",
    "learn.fit(10,lr=1.0)"
   ]
  },
  {
   "cell_type": "code",
   "execution_count": null,
   "id": "7343c0ea-ee67-40bc-bbe4-06ba2b0267be",
   "metadata": {},
   "outputs": [],
   "source": []
  }
 ],
 "metadata": {
  "kernelspec": {
   "display_name": "Python 3 (ipykernel)",
   "language": "python",
   "name": "python3"
  },
  "language_info": {
   "codemirror_mode": {
    "name": "ipython",
    "version": 3
   },
   "file_extension": ".py",
   "mimetype": "text/x-python",
   "name": "python",
   "nbconvert_exporter": "python",
   "pygments_lexer": "ipython3",
   "version": "3.9.13"
  }
 },
 "nbformat": 4,
 "nbformat_minor": 5
}
